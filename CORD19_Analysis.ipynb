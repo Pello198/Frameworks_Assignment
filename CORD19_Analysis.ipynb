{
 "cells": [
  {
   "cell_type": "markdown",
   "metadata": {},
   "source": [
    "# 📊 CORD-19 Data Analysis\n",
    "\n",
    "This notebook demonstrates data loading, cleaning, exploration, and visualization using the **CORD-19 metadata.csv** file."
   ]
  },
  {
   "cell_type": "code",
   "execution_count": null,
   "metadata": {},
   "outputs": [],
   "source": [
    "# Part 1: Data Loading and Basic Exploration\n",
    "import pandas as pd\n",
    "import matplotlib.pyplot as plt\n",
    "import seaborn as sns\n",
    "from wordcloud import WordCloud\n",
    "from collections import Counter\n",
    "\n",
    "# Load dataset\n",
    "df = pd.read_csv(\"metadata.csv\", low_memory=False)\n",
    "\n",
    "# Basic info\n",
    "print(\"Shape:\", df.shape)\n",
    "print(df.info())\n",
    "df.head()"
   ]
  },
  {
   "cell_type": "code",
   "execution_count": null,
   "metadata": {},
   "outputs": [],
   "source": [
    "# Check missing values\n",
    "df.isnull().sum().sort_values(ascending=False).head(20)"
   ]
  },
  {
   "cell_type": "code",
   "execution_count": null,
   "metadata": {},
   "outputs": [],
   "source": [
    "# Part 2: Data Cleaning and Preparation\n",
    "df['publish_time'] = pd.to_datetime(df['publish_time'], errors=\"coerce\")\n",
    "df['year'] = df['publish_time'].dt.year\n",
    "df['abstract_word_count'] = df['abstract'].fillna(\"\").apply(lambda x: len(x.split()))\n",
    "df[['publish_time', 'year', 'abstract_word_count']].head()"
   ]
  },
  {
   "cell_type": "code",
   "execution_count": null,
   "metadata": {},
   "outputs": [],
   "source": [
    "# Part 3: Analysis - Publications by Year\n",
    "year_counts = df['year'].value_counts().sort_index()\n",
    "plt.figure(figsize=(10,5))\n",
    "sns.barplot(x=year_counts.index, y=year_counts.values, color=\"skyblue\")\n",
    "plt.title(\"Publications by Year\")\n",
    "plt.xticks(rotation=45)\n",
    "plt.show()"
   ]
  },
  {
   "cell_type": "code",
   "execution_count": null,
   "metadata": {},
   "outputs": [],
   "source": [
    "# Top Journals\n",
    "top_journals = df['journal'].value_counts().head(10)\n",
    "plt.figure(figsize=(10,5))\n",
    "sns.barplot(x=top_journals.values, y=top_journals.index, color=\"lightgreen\")\n",
    "plt.title(\"Top Journals\")\n",
    "plt.show()"
   ]
  },
  {
   "cell_type": "code",
   "execution_count": null,
   "metadata": {},
   "outputs": [],
   "source": [
    "# Word frequency in titles\n",
    "titles = df['title'].dropna().astype(str)\n",
    "words = \" \".join(titles).lower().split()\n",
    "common_words = Counter(words).most_common(20)\n",
    "common_words"
   ]
  },
  {
   "cell_type": "code",
   "execution_count": null,
   "metadata": {},
   "outputs": [],
   "source": [
    "# Word Cloud of paper titles\n",
    "text = \" \".join(titles)\n",
    "wc = WordCloud(width=800, height=400, background_color=\"white\").generate(text)\n",
    "plt.figure(figsize=(12,6))\n",
    "plt.imshow(wc, interpolation=\"bilinear\")\n",
    "plt.axis(\"off\")\n",
    "plt.show()"
   ]
  }
 ],
 "metadata": {
  "kernelspec": {
   "display_name": "Python 3",
   "language": "python",
   "name": "python3"
  },
  "language_info": {
   "codemirror_mode": {
    "name": "ipython",
    "version": 3
   },
   "file_extension": ".py",
   "mimetype": "text/x-python",
   "name": "python",
   "nbconvert_exporter": "python",
   "pygments_lexer": "ipython3",
   "version": "3.10"
  }
 },
 "nbformat": 4,
 "nbformat_minor": 5
}
