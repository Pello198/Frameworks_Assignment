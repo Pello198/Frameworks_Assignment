# CORD-19 Metadata Analysis (Parts 1–3)

import pandas as pd
import numpy as np
import matplotlib.pyplot as plt
from collections import Counter
import re
from wordcloud import WordCloud

# --- Part 1: Load & Explore ---
METADATA_PATH = "metadata.csv"  # ensure the file is in your working folder

df = pd.read_csv(METADATA_PATH, low_memory=False)

print("Shape:", df.shape)
print(df.info())
print(df.head())

# Check missing values
print("Missing values (top 20 columns):")
print(df.isnull().sum().sort_values(ascending=False).head(20))

# --- Part 2: Cleaning & Preparation ---
df['publish_time'] = pd.to_datetime(df['publish_time'], errors='coerce')
df['year'] = df['publish_time'].dt.year

df['abstract_word_count'] = df['abstract'].fillna("").apply(lambda s: len(str(s).split()))
df['title_word_count'] = df['title'].fillna("").apply(lambda s: len(str(s).split()))

# --- Part 3: Analysis & Visualization ---

# Publications by year
year_counts = df['year'].dropna().astype(int).value_counts().sort_index()
plt.figure(figsize=(8,4))
plt.bar(year_counts.index, year_counts.values)
plt.title("Publications by Year")
plt.xlabel("Year")
plt.ylabel("Count")
plt.show()

# Top journals
journal_counts = df['journal'].fillna('Unknown').value_counts().head(15)
plt.figure(figsize=(8,4))
journal_counts.sort_values().plot(kind='barh')
plt.title("Top Journals")
plt.show()

# Word cloud for titles
text = " ".join(df['title'].fillna("").tolist())
wc = WordCloud(width=800, height=400, collocations=False).generate(text)
plt.figure(figsize=(10,5))
plt.imshow(wc, interpolation='bilinear')
plt.axis("off")
plt.show()
